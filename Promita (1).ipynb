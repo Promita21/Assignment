{
 "cells": [
  {
   "cell_type": "code",
   "execution_count": 45,
   "id": "9cab1e17-b3fa-48e4-91b7-8f8e8e3165ed",
   "metadata": {},
   "outputs": [],
   "source": [
    "def capitalize_sentence(sentence):\n",
    "    result = \"\"\n",
    "    word = \"\"\n",
    "    \n",
    "    for i in range(len(sentence)):\n",
    "        ch = sentence[i]\n",
    "        \n",
    "        if ch != ' ':\n",
    "          \n",
    "            if 'A' <= ch <= 'Z':\n",
    "                ch = chr(ord(ch) + 32)\n",
    "            word += ch\n",
    "        else:\n",
    "           \n",
    "            if word != \"\":\n",
    "                first_char = word[0]\n",
    "                if 'a' <= first_char <= 'z':\n",
    "                    first_char = chr(ord(first_char) - 32)\n",
    "                result += first_char + word[1:] + ' '\n",
    "                word = \"\"\n",
    "            else:\n",
    "                result += ' '\n",
    "    \n",
    "    \n",
    "    if word != \"\":\n",
    "        first_char = word[0]\n",
    "        if 'a' <= first_char <= 'z':\n",
    "            first_char = chr(ord(first_char) - 32)\n",
    "        result += first_char + word[1:]\n",
    "\n",
    "    return result\n"
   ]
  },
  {
   "cell_type": "code",
   "execution_count": 17,
   "id": "7e38736c-9a69-4cd0-8554-76a0ab56dacc",
   "metadata": {},
   "outputs": [
    {
     "name": "stdout",
     "output_type": "stream",
     "text": [
      "Number of vowels: 12\n"
     ]
    }
   ],
   "source": [
    "def count_vowels(text):\n",
    "    vowels = ['a', 'e', 'i', 'o', 'u',\n",
    "              'A', 'E', 'I', 'O', 'U']\n",
    "    count = 0\n",
    "\n",
    "    for char in text:\n",
    "        if char in vowels:\n",
    "            count += 1\n",
    "\n",
    "    return count\n",
    "\n",
    "\n",
    "sentence = \"Hello, Promita! How are you today?\"\n",
    "print(\"Number of vowels:\", count_vowels(sentence))\n",
    "\n",
    "\n"
   ]
  },
  {
   "cell_type": "code",
   "execution_count": 21,
   "id": "32b439bc-3b0b-4f89-9e5e-59f2ce2886c6",
   "metadata": {},
   "outputs": [
    {
     "name": "stdin",
     "output_type": "stream",
     "text": [
      "Enter yours marks:  92\n"
     ]
    },
    {
     "name": "stdout",
     "output_type": "stream",
     "text": [
      "Grade A\n"
     ]
    }
   ],
   "source": [
    "def get_grade(marks):\n",
    "    if marks >= 90:\n",
    "        return \"Grade A\"\n",
    "    elif marks >= 75:\n",
    "        return \"Grade B\"\n",
    "    elif marks >= 60:\n",
    "        return \"Grade C\"\n",
    "    else:\n",
    "        return \"Grade F\"\n",
    "\n",
    "\n",
    "score = int(input(\"Enter yours marks: \"))\n",
    "print(get_grade(score))\n"
   ]
  },
  {
   "cell_type": "code",
   "execution_count": 23,
   "id": "0841e3f5-3701-442a-be23-eade9893c72d",
   "metadata": {},
   "outputs": [
    {
     "name": "stdout",
     "output_type": "stream",
     "text": [
      "2\n",
      "3\n",
      "5\n",
      "7\n",
      "11\n",
      "13\n",
      "17\n",
      "19\n",
      "23\n",
      "29\n",
      "31\n",
      "37\n",
      "41\n",
      "43\n",
      "47\n",
      "53\n",
      "59\n",
      "61\n",
      "67\n",
      "71\n",
      "73\n",
      "79\n",
      "83\n",
      "89\n",
      "97\n"
     ]
    }
   ],
   "source": [
    "for num in range(2, 101):  # Start from 2, since 1 is not a prime number\n",
    "    is_prime = True\n",
    "    for i in range(2, num):\n",
    "        if num % i == 0:\n",
    "            is_prime = False\n",
    "            break\n",
    "    if is_prime:\n",
    "        print(num)\n"
   ]
  },
  {
   "cell_type": "code",
   "execution_count": 27,
   "id": "87d97871-c676-4ea9-8dda-ced0a1657b74",
   "metadata": {},
   "outputs": [
    {
     "ename": "NameError",
     "evalue": "name 'rows' is not defined",
     "output_type": "error",
     "traceback": [
      "\u001b[1;31m---------------------------------------------------------------------------\u001b[0m",
      "\u001b[1;31mNameError\u001b[0m                                 Traceback (most recent call last)",
      "Cell \u001b[1;32mIn[27], line 13\u001b[0m\n\u001b[0;32m     11\u001b[0m         \u001b[38;5;28mprint\u001b[39m()  \u001b[38;5;66;03m# Move to the next line \u001b[39;00m\n\u001b[0;32m     12\u001b[0m         rows \u001b[38;5;241m=\u001b[39m \u001b[38;5;28mint\u001b[39m(\u001b[38;5;28minput\u001b[39m(\u001b[38;5;124m\"\u001b[39m\u001b[38;5;124mEnter number of rows: \u001b[39m\u001b[38;5;124m\"\u001b[39m))\n\u001b[1;32m---> 13\u001b[0m pascals_triangle(rows)\n",
      "\u001b[1;31mNameError\u001b[0m: name 'rows' is not defined"
     ]
    }
   ],
   "source": [
    "def pascals_triangle(n):\n",
    "    for row in range(n):\n",
    "        # Print leading spaces for formatting (optional)\n",
    "        print(' ' * (n - row), end='')\n",
    "\n",
    "        num = 1  # First number in every row is always 1\n",
    "        for k in range(row + 1):\n",
    "            print(num, end=' ')\n",
    "            # Compute next number using nCr formula\n",
    "            num = num * (row - k) // (k + 1)\n",
    "        print()  # Move to the next line \n",
    "        rows = int(input(\"Enter number of rows: \"))\n",
    "pascals_triangle(rows)\n",
    "\n",
    "\n"
   ]
  },
  {
   "cell_type": "code",
   "execution_count": 29,
   "id": "c44f6b4f-b20e-47fb-bbd2-e2676f138a7d",
   "metadata": {},
   "outputs": [
    {
     "name": "stdout",
     "output_type": "stream",
     "text": [
      "Result of matrix multiplication:\n",
      "[19, 22]\n",
      "[43, 50]\n"
     ]
    }
   ],
   "source": [
    "def multiply_matrices(A, B):\n",
    "    size = len(A)\n",
    "    # Create a result matrix filled with zeros\n",
    "    result = [[0 for _ in range(size)] for _ in range(size)]\n",
    "\n",
    "\n",
    "    for i in range(size):\n",
    "        for j in range(size):\n",
    "            for k in range(size):\n",
    "                result[i][j] += A[i][k] * B[k][j]\n",
    "    \n",
    "    return result\n",
    "\n",
    "# Example usage\n",
    "A = [[1, 2],\n",
    "     [3, 4]]\n",
    "\n",
    "B = [[5, 6],\n",
    "     [7, 8]]\n",
    "\n",
    "product = multiply_matrices(A, B)\n",
    "\n",
    "print(\"Result of matrix multiplication:\")\n",
    "for row in product:\n",
    "    print(row) \n"
   ]
  },
  {
   "cell_type": "code",
   "execution_count": 31,
   "id": "5130b48f-3eba-4dd2-b672-627c77358a95",
   "metadata": {},
   "outputs": [
    {
     "name": "stdout",
     "output_type": "stream",
     "text": [
      "Distance between points: 5.0\n"
     ]
    }
   ],
   "source": [
    "def distance(x1, y1, x2, y2):\n",
    "    dx = x2 - x1\n",
    "    dy = y2 - y1\n",
    "    return (dx**2 + dy**2) ** 0.5\n",
    "\n",
    "# Example usage\n",
    "x1, y1 = 3, 4\n",
    "x2, y2 = 7, 1\n",
    "print(\"Distance between points:\", distance(x1, y1, x2, y2))\n"
   ]
  },
  {
   "cell_type": "code",
   "execution_count": 33,
   "id": "fdaca05e-2c78-4f59-984b-7fba66d1d7c5",
   "metadata": {},
   "outputs": [
    {
     "name": "stdin",
     "output_type": "stream",
     "text": [
      "Enter a single character:  a\n"
     ]
    },
    {
     "name": "stdout",
     "output_type": "stream",
     "text": [
      "It's a lowercase letter.\n"
     ]
    }
   ],
   "source": [
    "def check_character_type(char):\n",
    "    if '0' <= char <= '9':\n",
    "        print(\"It's a digit.\")\n",
    "    elif 'a' <= char <= 'z':\n",
    "        print(\"It's a lowercase letter.\")\n",
    "    elif 'A' <= char <= 'Z':\n",
    "        print(\"It's an uppercase letter.\")\n",
    "    else:\n",
    "        print(\"It's a special character.\")\n",
    "\n",
    "\n",
    "ch = input(\"Enter a single character: \")\n",
    "if len(ch) == 1:\n",
    "    check_character_type(ch)\n",
    "else:\n",
    "    print(\"Please enter exactly one character.\")"
   ]
  },
  {
   "cell_type": "code",
   "execution_count": 45,
   "id": "cb74d13f-6961-4646-8519-28ba1bbf0c75",
   "metadata": {},
   "outputs": [],
   "source": [
    "def has_duplicates(lst):\n",
    "    for i in range(len(lst)):\n",
    "        for j in range(i+1,len(lst)):\n",
    "            if lst[i]==lst[j]:\n",
    "                return True\n",
    "                return False\n",
    "                print(has_duplicates([1,2,3,4,2]))\n",
    "            \n",
    "   \n"
   ]
  },
  {
   "cell_type": "code",
   "execution_count": 47,
   "id": "75f38cac-e5e2-4c6d-950c-33b3c5baddd6",
   "metadata": {},
   "outputs": [
    {
     "name": "stdout",
     "output_type": "stream",
     "text": [
      "[1, 4, 9, 16, 25]\n"
     ]
    }
   ],
   "source": [
    "numbers = [1, 2, 3, 4, 5]\n",
    "squared = [x * x for x in numbers]\n",
    "print(squared)\n"
   ]
  },
  {
   "cell_type": "code",
   "execution_count": 49,
   "id": "7ad688ab-07df-4511-83ac-209df55b66eb",
   "metadata": {},
   "outputs": [
    {
     "name": "stdout",
     "output_type": "stream",
     "text": [
      "Maximum number is: 10\n"
     ]
    }
   ],
   "source": [
    "def find_maximum(lst):\n",
    "    if not lst:\n",
    "        return \"List is empty.\"\n",
    "\n",
    "    maximum = lst[0]  # Start by assuming the first element is the largest\n",
    "    for num in lst[1:]:\n",
    "        if num > maximum:\n",
    "            maximum = num\n",
    "    return maximum\n",
    "\n",
    "# Example usage\n",
    "numbers = [3, 7, 2, 9, 4, 10, 1]\n",
    "print(\"Maximum number is:\", find_maximum(numbers))\n"
   ]
  },
  {
   "cell_type": "code",
   "execution_count": 51,
   "id": "09f02313-3c56-468a-9f7f-c01ca3728240",
   "metadata": {},
   "outputs": [
    {
     "name": "stdout",
     "output_type": "stream",
     "text": [
      "[2, 4, 6, 8, 10]\n"
     ]
    }
   ],
   "source": [
    "numbers = [1, 2, 3, 4, 5, 6, 7, 8, 9, 10]\n",
    "even_numbers = [x for x in numbers if x % 2 == 0]\n",
    "print(even_numbers)\n"
   ]
  },
  {
   "cell_type": "code",
   "execution_count": 1,
   "id": "b391959f-8b74-46e9-b9a2-f1f9aad7d965",
   "metadata": {},
   "outputs": [
    {
     "name": "stdin",
     "output_type": "stream",
     "text": [
      "Enter a number (0 to stop):  8\n",
      "Enter a number (0 to stop):  5\n",
      "Enter a number (0 to stop):  0\n"
     ]
    },
    {
     "name": "stdout",
     "output_type": "stream",
     "text": [
      "\n",
      "Results:\n",
      "Total Sum: 13.0\n",
      "Average: 6.5\n",
      "Maximum: 8.0\n",
      "Minimum: 5.0\n",
      "Standard Deviation: 1.5\n"
     ]
    }
   ],
   "source": [
    "import math\n",
    "\n",
    "numbers = []\n",
    "\n",
    "while True:\n",
    "    try:\n",
    "        num = float(input(\"Enter a number (0 to stop): \"))\n",
    "        if num == 0:\n",
    "            break\n",
    "        numbers.append(num)\n",
    "    except ValueError:\n",
    "        print(\"Please enter a valid number.\")\n",
    "\n",
    "if numbers:\n",
    "    total = sum(numbers)\n",
    "    average = total / len(numbers)\n",
    "    maximum = max(numbers)\n",
    "    minimum = min(numbers)\n",
    "    # Standard deviation\n",
    "    variance = sum((x - average) ** 2 for x in numbers) / len(numbers)\n",
    "    std_dev = math.sqrt(variance)\n",
    "\n",
    "    print(f\"\\nResults:\")\n",
    "    print(f\"Total Sum: {total}\")\n",
    "    print(f\"Average: {average}\")\n",
    "    print(f\"Maximum: {maximum}\")\n",
    "    print(f\"Minimum: {minimum}\")\n",
    "    print(f\"Standard Deviation: {std_dev}\")\n",
    "else:\n",
    "    print(\"No numbers were entered.\")\n"
   ]
  },
  {
   "cell_type": "code",
   "execution_count": 3,
   "id": "bc35db6c-cb91-46f8-a5d9-aad496c107ff",
   "metadata": {},
   "outputs": [
    {
     "name": "stdout",
     "output_type": "stream",
     "text": [
      "False\n",
      "True\n"
     ]
    }
   ],
   "source": [
    "def has_duplicates(lst):\n",
    "    return len(lst) != len(set(lst))\n",
    "print(has_duplicates([1, 2, 3, 4]))       # False\n",
    "print(has_duplicates([1, 2, 2, 3]))       # True\n"
   ]
  },
  {
   "cell_type": "code",
   "execution_count": 5,
   "id": "24511928-4012-4599-ad60-6526a3bac462",
   "metadata": {},
   "outputs": [
    {
     "name": "stdout",
     "output_type": "stream",
     "text": [
      "[1, 4, 9, 16, 25]\n"
     ]
    }
   ],
   "source": [
    "numbers = [1, 2, 3, 4, 5]\n",
    "squared = [x**2 for x in numbers]\n",
    "print(squared)"
   ]
  },
  {
   "cell_type": "code",
   "execution_count": 7,
   "id": "56606551-fd18-4549-8f6a-94cd938169ac",
   "metadata": {},
   "outputs": [
    {
     "name": "stdout",
     "output_type": "stream",
     "text": [
      "Even numbers: [10, 22, 60]\n",
      "Odd numbers: [15, 33, 47]\n"
     ]
    }
   ],
   "source": [
    "numbers = [10, 15, 22, 33, 47, 60]\n",
    "\n",
    "\n",
    "even_numbers = [num for num in numbers if num % 2 == 0]\n",
    "odd_numbers = [num for num in numbers if num % 2 != 0]\n",
    "\n",
    "print(\"Even numbers:\", even_numbers)\n",
    "print(\"Odd numbers:\", odd_numbers)"
   ]
  },
  {
   "cell_type": "code",
   "execution_count": 9,
   "id": "f846ebfb-9854-400f-bd6f-92a6b808ccfc",
   "metadata": {},
   "outputs": [
    {
     "name": "stdout",
     "output_type": "stream",
     "text": [
      "Even numbers: [8, 12, 24]\n"
     ]
    }
   ],
   "source": [
    "numbers = [3, 8, 12, 5, 19, 24, 7]\n",
    "\n",
    "even_numbers = [num for num in numbers if num % 2 == 0]\n",
    "\n",
    "print(\"Even numbers:\", even_numbers)\n"
   ]
  },
  {
   "cell_type": "code",
   "execution_count": 11,
   "id": "f5bee8ce-babf-470a-bf9e-8085b440a5d4",
   "metadata": {},
   "outputs": [
    {
     "name": "stdin",
     "output_type": "stream",
     "text": [
      "Enter a number (0 to stop):  9\n",
      "Enter a number (0 to stop):  6\n",
      "Enter a number (0 to stop):  5\n",
      "Enter a number (0 to stop):  0\n"
     ]
    },
    {
     "name": "stdout",
     "output_type": "stream",
     "text": [
      "\n",
      "📊 Statistics:\n",
      "Total Sum: 20.0\n",
      "Average: 6.666666666666667\n",
      "Maximum: 9.0\n",
      "Minimum: 5.0\n",
      "Standard Deviation: 1.699673171197595\n"
     ]
    }
   ],
   "source": [
    "import math\n",
    "\n",
    "def main():\n",
    "    numbers = []\n",
    "\n",
    "    while True:\n",
    "        try:\n",
    "            num = float(input(\"Enter a number (0 to stop): \"))\n",
    "            if num == 0:\n",
    "                break\n",
    "            numbers.append(num)\n",
    "        except ValueError:\n",
    "            print(\"Oops! That wasn't a valid number. Try again.\")\n",
    "\n",
    "    if numbers:\n",
    "        total = sum(numbers)\n",
    "        average = total / len(numbers)\n",
    "        maximum = max(numbers)\n",
    "        minimum = min(numbers)\n",
    "        variance = sum((x - average) ** 2 for x in numbers) / len(numbers)\n",
    "        std_dev = math.sqrt(variance)\n",
    "\n",
    "        print(\"\\n📊 Statistics:\")\n",
    "        print(f\"Total Sum: {total}\")\n",
    "        print(f\"Average: {average}\")\n",
    "        print(f\"Maximum: {maximum}\")\n",
    "        print(f\"Minimum: {minimum}\")\n",
    "        print(f\"Standard Deviation: {std_dev}\")\n",
    "    else:\n",
    "        print(\"You didn't enter any numbers!\")\n",
    "\n",
    "if __name__ == \"__main__\":\n",
    "    main()"
   ]
  },
  {
   "cell_type": "code",
   "execution_count": 13,
   "id": "084a24af-bddc-4437-8740-81dba2ff9d34",
   "metadata": {},
   "outputs": [
    {
     "name": "stdout",
     "output_type": "stream",
     "text": [
      "{'apple': 3, 'banana': 2, 'orange': 1}\n"
     ]
    }
   ],
   "source": [
    "words = [\"apple\", \"banana\", \"apple\", \"orange\", \"banana\", \"apple\"]\n",
    "\n",
    "word_count = {}\n",
    "\n",
    "for word in words:\n",
    "    if word in word_count:\n",
    "        word_count[word] += 1\n",
    "    else:\n",
    "        word_count[word] = 1\n",
    "\n",
    "print(word_count)"
   ]
  },
  {
   "cell_type": "code",
   "execution_count": 15,
   "id": "c049219d-844d-4b26-b7e4-37d26366689b",
   "metadata": {},
   "outputs": [
    {
     "name": "stdout",
     "output_type": "stream",
     "text": [
      "85\n"
     ]
    }
   ],
   "source": [
    "student = {'name': 'John', 'grades': {'math': 90, 'science': 85}}\n",
    "\n",
    "science_grade = student['grades']['science']\n",
    "print(science_grade)"
   ]
  },
  {
   "cell_type": "code",
   "execution_count": 23,
   "id": "57d4dc84-1a37-47ed-89c2-65ce2366ec2c",
   "metadata": {},
   "outputs": [
    {
     "name": "stdout",
     "output_type": "stream",
     "text": [
      "4567-8912-3456-7890: Valid\n",
      "5123 4567 8901 2345: Valid\n",
      "6123456789012345: Valid\n",
      "1234-5678-9012-3456: Invalid\n",
      "4567-89-1234-5678: Invalid\n",
      "456789123456789: Invalid\n"
     ]
    }
   ],
   "source": [
    "import re\n",
    "\n",
    "def is_valid_credit_card(card_number):\n",
    " \n",
    "    cleaned = card_number.replace(\" \", \"\").replace(\"-\", \"\")\n",
    "\n",
    "   \n",
    "    if not re.fullmatch(r'[456]\\d{15}', cleaned):\n",
    "        return False\n",
    "\n",
    "    \n",
    "    if \"-\" in card_number or \" \" in card_number:\n",
    "        if not re.fullmatch(r'([456]\\d{3})([- ])\\d{4}(\\2\\d{4}){2}', card_number):\n",
    "            return False\n",
    "\n",
    "    return True\n",
    "cards = [\n",
    "    \"4567-8912-3456-7890\",  # Valid\n",
    "    \"5123 4567 8901 2345\",  # Valid\n",
    "    \"6123456789012345\",     # Valid\n",
    "    \"1234-5678-9012-3456\",  # Invalid start\n",
    "    \"4567-89-1234-5678\",    # Invalid format\n",
    "    \"456789123456789\"       # Only 15 digits\n",
    "]\n",
    "\n",
    "for card in cards:\n",
    "    print(f\"{card}: {'Valid' if is_valid_credit_card(card) else 'Invalid'}\")\n",
    "\n"
   ]
  },
  {
   "cell_type": "code",
   "execution_count": 25,
   "id": "c993a99e-1cb9-4c65-8a10-3fbaed975ca7",
   "metadata": {},
   "outputs": [
    {
     "name": "stdout",
     "output_type": "stream",
     "text": [
      "1234567890 is valid.\n",
      "987654321 is invalid.\n",
      "98765abc10 is invalid.\n"
     ]
    }
   ],
   "source": [
    "import re\n",
    "\n",
    "pattern = r'^\\d{10}$'\n",
    "mobile_numbers = [\"1234567890\", \"987654321\", \"98765abc10\"]\n",
    "\n",
    "for number in mobile_numbers:\n",
    "    if re.fullmatch(pattern, number):\n",
    "        print(f\"{number} is valid.\")\n",
    "    else:\n",
    "        print(f\"{number} is invalid.\")"
   ]
  },
  {
   "cell_type": "code",
   "execution_count": 27,
   "id": "3fff4333-182d-4516-932b-8f7ba2a4fc32",
   "metadata": {},
   "outputs": [
    {
     "name": "stdout",
     "output_type": "stream",
     "text": [
      "Hello World This is 2025 \n"
     ]
    }
   ],
   "source": [
    "import re\n",
    "\n",
    "text = \"Hello, World! This is #2025 😊.\"\n",
    "cleaned_text = re.sub(r'[^A-Za-z0-9 ]+', '', text)\n",
    "\n",
    "print(cleaned_text)"
   ]
  },
  {
   "cell_type": "code",
   "execution_count": 29,
   "id": "152008a8-2162-486d-a04a-b4c4292ce057",
   "metadata": {},
   "outputs": [
    {
     "name": "stdout",
     "output_type": "stream",
     "text": [
      "Area: 15\n",
      "Perimeter: 16\n"
     ]
    }
   ],
   "source": [
    "class Rectangle:\n",
    "    def __init__(self, width, height):\n",
    "        self.width = width\n",
    "        self.height = height\n",
    "\n",
    "    def area(self):\n",
    "        return self.width * self.height\n",
    "\n",
    "    def perimeter(self):\n",
    "        return 2 * (self.width + self.height)\n",
    "\n",
    "\n",
    "rect = Rectangle(5, 3)\n",
    "\n",
    "\n",
    "print(\"Area:\", rect.area())\n",
    "print(\"Perimeter:\", rect.perimeter())"
   ]
  },
  {
   "cell_type": "code",
   "execution_count": 39,
   "id": "0c332f46-850f-44a3-9777-4d786f067b4a",
   "metadata": {},
   "outputs": [],
   "source": [
    "class BankAccount:\n",
    "    def __init__(self, initial_balance=0):\n",
    "        self.balance = initial_balance\n",
    "\n",
    "    def deposit(self, amount):\n",
    "        if amount <= 0:\n",
    "            print(\"Deposit must be a positive amount.\")\n",
    "            return\n",
    "        self.balance += amount\n",
    "        print(f\"Deposited: {amount}. New Balance: {self.balance}\")\n",
    "\n",
    "    def withdraw(self, amount):\n",
    "        if amount <= 0:\n",
    "            print(\"Withdrawal amount must be positive.\")\n",
    "        elif amount > self.balance:\n",
    "            print(f\"Insufficient funds! Current balance is {self.balance}.\")\n",
    "        else:\n",
    "            self.balance -= amount\n",
    "            print(f\"Withdrew: {amount}. New Balance: {self.balance}\")\n",
    "\n",
    "    def get_balance(self):\n",
    "        return self.balance\n",
    "\n",
    "        "
   ]
  }
 ],
 "metadata": {
  "kernelspec": {
   "display_name": "Python [conda env:base] *",
   "language": "python",
   "name": "conda-base-py"
  },
  "language_info": {
   "codemirror_mode": {
    "name": "ipython",
    "version": 3
   },
   "file_extension": ".py",
   "mimetype": "text/x-python",
   "name": "python",
   "nbconvert_exporter": "python",
   "pygments_lexer": "ipython3",
   "version": "3.12.7"
  }
 },
 "nbformat": 4,
 "nbformat_minor": 5
}
